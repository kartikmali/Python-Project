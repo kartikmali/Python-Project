{
 "cells": [
  {
   "cell_type": "code",
   "execution_count": 1,
   "id": "ec9b8f8a",
   "metadata": {},
   "outputs": [],
   "source": [
    "import pandas as pd\n",
    "import numpy as np\n",
    "import seaborn as sns\n",
    "import matplotlib.pyplot as plt\n",
    "%matplotlib inline\n",
    "\n",
    "\n",
    "import warnings\n",
    "import os\n",
    "warnings.filterwarnings(\"ignore\")"
   ]
  },
  {
   "cell_type": "code",
   "execution_count": 2,
   "id": "cfa9bd38",
   "metadata": {},
   "outputs": [],
   "source": [
    "train = pd.read_csv(r\"C:\\Users\\Kartik\\OneDrive\\Desktop\\Projects Loan status eda\\train_loan.csv\")\n",
    "test = pd.read_csv(r\"C:\\Users\\Kartik\\OneDrive\\Desktop\\Projects Loan status eda\\test_loan.csv\")"
   ]
  },
  {
   "cell_type": "code",
   "execution_count": 3,
   "id": "d2d094d9",
   "metadata": {},
   "outputs": [],
   "source": [
    "train_original = train.copy()\n",
    "test_original = test.copy()"
   ]
  },
  {
   "cell_type": "markdown",
   "id": "a4d391c6",
   "metadata": {},
   "source": [
    "In this section, we will look at the structre of the train and test datasets. Firstly we will check the features present in dataset and then we will look at their data types"
   ]
  },
  {
   "cell_type": "code",
   "execution_count": 4,
   "id": "0ef1edf9",
   "metadata": {},
   "outputs": [
    {
     "data": {
      "text/plain": [
       "Index(['Loan_ID', 'Gender', 'Married', 'Dependents', 'Education',\n",
       "       'Self_Employed', 'ApplicantIncome', 'CoapplicantIncome', 'LoanAmount',\n",
       "       'Loan_Amount_Term', 'Credit_History', 'Property_Area', 'Loan_Status'],\n",
       "      dtype='object')"
      ]
     },
     "execution_count": 4,
     "metadata": {},
     "output_type": "execute_result"
    }
   ],
   "source": [
    "train.columns"
   ]
  },
  {
   "cell_type": "markdown",
   "id": "d58c77e3",
   "metadata": {},
   "source": [
    "We have 12 independent variables and 1 target variable , i.e Loan_Status in the train dataset."
   ]
  },
  {
   "cell_type": "code",
   "execution_count": 5,
   "id": "e4557844",
   "metadata": {},
   "outputs": [
    {
     "data": {
      "text/plain": [
       "Index(['Loan_ID', 'Gender', 'Married', 'Dependents', 'Education',\n",
       "       'Self_Employed', 'ApplicantIncome', 'CoapplicantIncome', 'LoanAmount',\n",
       "       'Loan_Amount_Term', 'Credit_History', 'Property_Area'],\n",
       "      dtype='object')"
      ]
     },
     "execution_count": 5,
     "metadata": {},
     "output_type": "execute_result"
    }
   ],
   "source": [
    "test.columns"
   ]
  },
  {
   "cell_type": "markdown",
   "id": "86ca4d51",
   "metadata": {},
   "source": [
    "We have similar features in the test data set  as the train dataset except Loan_Satus. We will predict the loan_Status using the modelbuilt using train dataset."
   ]
  },
  {
   "cell_type": "code",
   "execution_count": 6,
   "id": "a81284c1",
   "metadata": {},
   "outputs": [],
   "source": [
    "#print data _types for each variable"
   ]
  },
  {
   "cell_type": "code",
   "execution_count": 7,
   "id": "013b5aef",
   "metadata": {},
   "outputs": [
    {
     "data": {
      "text/plain": [
       "Loan_ID               object\n",
       "Gender                object\n",
       "Married               object\n",
       "Dependents            object\n",
       "Education             object\n",
       "Self_Employed         object\n",
       "ApplicantIncome        int64\n",
       "CoapplicantIncome    float64\n",
       "LoanAmount           float64\n",
       "Loan_Amount_Term     float64\n",
       "Credit_History       float64\n",
       "Property_Area         object\n",
       "Loan_Status           object\n",
       "dtype: object"
      ]
     },
     "execution_count": 7,
     "metadata": {},
     "output_type": "execute_result"
    }
   ],
   "source": [
    "train.dtypes"
   ]
  },
  {
   "cell_type": "code",
   "execution_count": 8,
   "id": "595a3162",
   "metadata": {},
   "outputs": [],
   "source": [
    "#lets look at the shape of data"
   ]
  },
  {
   "cell_type": "code",
   "execution_count": 9,
   "id": "a7e01f5c",
   "metadata": {},
   "outputs": [
    {
     "data": {
      "text/plain": [
       "((614, 13), (367, 12))"
      ]
     },
     "execution_count": 9,
     "metadata": {},
     "output_type": "execute_result"
    }
   ],
   "source": [
    "train.shape,test.shape"
   ]
  },
  {
   "cell_type": "code",
   "execution_count": 10,
   "id": "2eaee845",
   "metadata": {},
   "outputs": [],
   "source": [
    "# \"We will do univariate analysis. It is the simplest form of analysing data where we can examine each variable individually.\n",
    "# For Categorical variable we can use Frequency table or bar plots which will calculate the number of each category\n",
    "# in a particular variable. For numerical features, probability density plots can be used to look at the distribution\n",
    "# of the varible.\""
   ]
  },
  {
   "cell_type": "markdown",
   "id": "3e05b828",
   "metadata": {},
   "source": [
    "# Target Variable"
   ]
  },
  {
   "cell_type": "code",
   "execution_count": 11,
   "id": "2c318d10",
   "metadata": {},
   "outputs": [],
   "source": [
    "# We will look  at the target variable , i.e. Loan_Status.\n",
    "# As it is Categorical variable, let look at its frequency table, percentage distribution bar plot."
   ]
  },
  {
   "cell_type": "code",
   "execution_count": 12,
   "id": "4bfe061c",
   "metadata": {},
   "outputs": [],
   "source": [
    "# Frequency table of a variable will give us the count of each category in that variable."
   ]
  },
  {
   "cell_type": "code",
   "execution_count": 13,
   "id": "89ae5b98",
   "metadata": {},
   "outputs": [
    {
     "data": {
      "text/plain": [
       "Y    422\n",
       "N    192\n",
       "Name: Loan_Status, dtype: int64"
      ]
     },
     "execution_count": 13,
     "metadata": {},
     "output_type": "execute_result"
    }
   ],
   "source": [
    "train['Loan_Status'].value_counts()"
   ]
  },
  {
   "cell_type": "code",
   "execution_count": 14,
   "id": "a7ea7fae",
   "metadata": {},
   "outputs": [],
   "source": [
    "# Normalize can set to True to print proportion instead of numbers "
   ]
  },
  {
   "cell_type": "code",
   "execution_count": 15,
   "id": "db29acd4",
   "metadata": {},
   "outputs": [
    {
     "data": {
      "text/plain": [
       "Y    0.687296\n",
       "N    0.312704\n",
       "Name: Loan_Status, dtype: float64"
      ]
     },
     "execution_count": 15,
     "metadata": {},
     "output_type": "execute_result"
    }
   ],
   "source": [
    "train['Loan_Status'].value_counts(normalize= True)"
   ]
  },
  {
   "cell_type": "code",
   "execution_count": 16,
   "id": "ec1123fe",
   "metadata": {},
   "outputs": [
    {
     "data": {
      "text/plain": [
       "<AxesSubplot:>"
      ]
     },
     "execution_count": 16,
     "metadata": {},
     "output_type": "execute_result"
    },
    {
     "data": {
      "image/png": "[encoded data removed]",
      "text/plain": [
       "<Figure size 432x288 with 1 Axes>"
      ]
     },
     "metadata": {
      "needs_background": "light"
     },
     "output_type": "display_data"
    }
   ],
   "source": [
    "train['Loan_Status'].value_counts().plot.bar()"
   ]
  },
  {
   "cell_type": "markdown",
   "id": "36128349",
   "metadata": {},
   "source": [
    "The loan of 422 (around 69%) people out of 614 was approved."
   ]
  },
  {
   "cell_type": "markdown",
   "id": "86e5b80b",
   "metadata": {},
   "source": [
    "###### Now let us visualize each variable sepeartely. Different types of variables are Categorical, ordinal , numerical.\n",
    "###### Categorical features: These features have categories (Gender, Married, Self_Employed, Credit_History, Loan_Status)\n",
    "###### Ordinal features: Variables in categorical features having some order involved (Dependents, Education, Property Area)\n",
    "###### Numerical features: These features have numerical values (Application_Income, Coapplicant_Income, LoanAmount, Loan_Amount_Term)"
   ]
  },
  {
   "cell_type": "markdown",
   "id": "e39163ed",
   "metadata": {},
   "source": [
    " "
   ]
  },
  {
   "cell_type": "code",
   "execution_count": 17,
   "id": "f1e893c2",
   "metadata": {},
   "outputs": [],
   "source": [
    "# Let's visualize the categorical and ordinal features first"
   ]
  },
  {
   "cell_type": "markdown",
   "id": "f55ae3c8",
   "metadata": {},
   "source": [
    "# Independent Variable (Categorical)"
   ]
  },
  {
   "cell_type": "code",
   "execution_count": 18,
   "id": "97e26f72",
   "metadata": {},
   "outputs": [
    {
     "data": {
      "text/plain": [
       "<AxesSubplot:title={'center':'Credit_History'}>"
      ]
     },
     "execution_count": 18,
     "metadata": {},
     "output_type": "execute_result"
    },
    {
     "data": {
      "image/png": "[encoded data removed]",
      "text/plain": [
       "<Figure size 1440x720 with 4 Axes>"
      ]
     },
     "metadata": {
      "needs_background": "light"
     },
     "output_type": "display_data"
    }
   ],
   "source": [
    "plt.figure(1), plt.subplot(221)\n",
    "train['Gender'].value_counts(normalize = True).plot.bar(figsize=(20,10), title= 'Gender')\n",
    "plt.subplot(222)\n",
    "train['Married'].value_counts(normalize = True).plot.bar(figsize=(20,10), title= 'Married')\n",
    "plt.subplot(223)\n",
    "train['Self_Employed'].value_counts(normalize = True).plot.bar(figsize=(20,10), title= 'Self_Employed')\n",
    "plt.subplot(224)\n",
    "train['Credit_History'].value_counts(normalize = True).plot.bar(figsize=(20,10), title= 'Credit_History')"
   ]
  },
  {
   "cell_type": "markdown",
   "id": "6e7ca05c",
   "metadata": {},
   "source": [
    "# It can be inferred from above bar plots that:\n",
    "\n",
    "#### 80% applicants are Male.\n",
    "#### Around 65% applicants are Married.\n",
    "#### Around 15% applicants are are Self employed.\n",
    "#### Around 85% applicants repaid the debts."
   ]
  },
  {
   "cell_type": "code",
   "execution_count": 19,
   "id": "157c0705",
   "metadata": {},
   "outputs": [
    {
     "data": {
      "text/plain": [
       "<AxesSubplot:title={'center':'Property_Area'}>"
      ]
     },
     "execution_count": 19,
     "metadata": {},
     "output_type": "execute_result"
    },
    {
     "data": {
      "image/png": "[encoded data removed]",
      "text/plain": [
       "<Figure size 1800x504 with 3 Axes>"
      ]
     },
     "metadata": {
      "needs_background": "light"
     },
     "output_type": "display_data"
    }
   ],
   "source": [
    "plt.figure(1), plt.subplot(131)\n",
    "train['Dependents'].value_counts(normalize = True).plot.bar(figsize=(25,7), title= 'Dependents')\n",
    "plt.subplot(132)\n",
    "train['Education'].value_counts(normalize = True).plot.bar(figsize=(25,7), title= 'Education')\n",
    "plt.subplot(133)\n",
    "train['Property_Area'].value_counts(normalize = True).plot.bar(figsize=(25,7), title= 'Property_Area')"
   ]
  },
  {
   "cell_type": "markdown",
   "id": "ce2605c7",
   "metadata": {},
   "source": [
    "# Following inferrence can be made from the above bar plots:\n",
    "#### Most of the applicants don't have any dependent.\n",
    "#### Around 80% of the applicants are Graduate.\n",
    "#### Most of the applicants are from Semiurban area."
   ]
  },
  {
   "cell_type": "markdown",
   "id": "ed7297e0",
   "metadata": {},
   "source": [
    " "
   ]
  },
  {
   "cell_type": "markdown",
   "id": "96533325",
   "metadata": {},
   "source": [
    "# Independent Variable (Numerical)"
   ]
  },
  {
   "cell_type": "markdown",
   "id": "067c0443",
   "metadata": {},
   "source": [
    "#### Till now we have seen categorical and ordinal variables and now let's visualize the numerical variables.\n",
    "### Lets look at the distribution of Applicants Income first"
   ]
  },
  {
   "cell_type": "code",
   "execution_count": 20,
   "id": "8a729128",
   "metadata": {},
   "outputs": [
    {
     "data": {
      "image/png": "[encoded data removed]",
      "text/plain": [
       "<Figure size 1152x360 with 2 Axes>"
      ]
     },
     "metadata": {
      "needs_background": "light"
     },
     "output_type": "display_data"
    }
   ],
   "source": [
    "plt.figure(1),\n",
    "plt.subplot(121), sns.distplot(train['ApplicantIncome']);\n",
    "plt.subplot(122), train['ApplicantIncome'].plot.box(figsize=(16,5))\n",
    "plt.show()"
   ]
  },
  {
   "cell_type": "markdown",
   "id": "d07e24fd",
   "metadata": {},
   "source": [
    "#### It can be inferred that most of the data in the distribution of applicant income is towards left,\n",
    "#### which means it is not normally distributed. We will try to make it normally distributed."
   ]
  },
  {
   "cell_type": "markdown",
   "id": "9c56967d",
   "metadata": {},
   "source": [
    " "
   ]
  },
  {
   "cell_type": "markdown",
   "id": "15d2f1db",
   "metadata": {},
   "source": [
    " "
   ]
  },
  {
   "cell_type": "markdown",
   "id": "6c25ee0c",
   "metadata": {},
   "source": [
    "#### The Box Plot confirms the presence of a lot of outliers. This can be attributed to the income disparity in the society.\n",
    "#### Part of this can be driven by the fact that we are looking at people with different education levels.\n",
    "#### Let us segregate them."
   ]
  },
  {
   "cell_type": "code",
   "execution_count": 21,
   "id": "c06fc7ae",
   "metadata": {},
   "outputs": [
    {
     "data": {
      "text/plain": [
       "Text(0.5, 0.98, '')"
      ]
     },
     "execution_count": 21,
     "metadata": {},
     "output_type": "execute_result"
    },
    {
     "data": {
      "image/png": "[encoded data removed]",
      "text/plain": [
       "<Figure size 432x288 with 1 Axes>"
      ]
     },
     "metadata": {
      "needs_background": "light"
     },
     "output_type": "display_data"
    }
   ],
   "source": [
    "train.boxplot(column = 'ApplicantIncome', by = 'Education'),\n",
    "plt.suptitle(\"\")"
   ]
  },
  {
   "cell_type": "markdown",
   "id": "1c82dec1",
   "metadata": {},
   "source": [
    "#### We can see that there are a high number of graduate with very high incomes, which are appearing to be the outliers."
   ]
  },
  {
   "cell_type": "markdown",
   "id": "1f7eb1c6",
   "metadata": {},
   "source": [
    "### Lets look at the Coapplicant income distribution."
   ]
  },
  {
   "cell_type": "code",
   "execution_count": 22,
   "id": "6b43a20b",
   "metadata": {},
   "outputs": [
    {
     "data": {
      "image/png": "[encoded data removed]",
      "text/plain": [
       "<Figure size 1152x360 with 2 Axes>"
      ]
     },
     "metadata": {
      "needs_background": "light"
     },
     "output_type": "display_data"
    }
   ],
   "source": [
    "plt.figure(1),\n",
    "plt.subplot(121), sns.distplot(train['CoapplicantIncome']);\n",
    "plt.subplot(122), train['CoapplicantIncome'].plot.box(figsize=(16,5))\n",
    "plt.show()"
   ]
  },
  {
   "cell_type": "markdown",
   "id": "22b63d5b",
   "metadata": {},
   "source": [
    "#### We see a similar distribution as that of the applicant income.\n",
    "#### Majority of coapplicant's income ranges from 0 to 5000.\n",
    "#### We also see a lot of outliers in the coapplicant income and it is not normally distributed."
   ]
  },
  {
   "cell_type": "markdown",
   "id": "2c0c31a8",
   "metadata": {},
   "source": [
    " "
   ]
  },
  {
   "cell_type": "markdown",
   "id": "8d49e7d3",
   "metadata": {},
   "source": [
    "### Let's look at the distribution of LoanAmount variable."
   ]
  },
  {
   "cell_type": "code",
   "execution_count": 23,
   "id": "caa65c1f",
   "metadata": {},
   "outputs": [
    {
     "data": {
      "image/png": "[encoded data removed]",
      "text/plain": [
       "<Figure size 1152x360 with 2 Axes>"
      ]
     },
     "metadata": {
      "needs_background": "light"
     },
     "output_type": "display_data"
    }
   ],
   "source": [
    "plt.figure(1),\n",
    "plt.subplot(121),\n",
    "df = train.dropna(),\n",
    "sns.distplot(train['LoanAmount']);\n",
    "plt.subplot(122), train['LoanAmount'].plot.box(figsize=(16,5))\n",
    "plt.show()"
   ]
  },
  {
   "cell_type": "markdown",
   "id": "53f8c456",
   "metadata": {},
   "source": [
    "#### We see a lot of outliers in this variable and the distribution is fairly Normal.\n",
    "#### We will treat the outliers."
   ]
  },
  {
   "cell_type": "markdown",
   "id": "63920c58",
   "metadata": {},
   "source": [
    " "
   ]
  },
  {
   "cell_type": "markdown",
   "id": "28b841f4",
   "metadata": {},
   "source": [
    "### Now we would like to know how well each feature correlate with Loan Status."
   ]
  },
  {
   "cell_type": "markdown",
   "id": "d341533c",
   "metadata": {},
   "source": [
    "### Let's recall some hypotheses that we generated earlier\n",
    "#### Applicant with high income should have more chances of loan approval.\n",
    "#### Applicants who have repaid their previous debts should have higher chances of loan approval.\n",
    "#### Loan approval should also depend on Loan amount. If the loan amount is less , chances of loan approval should be high.\n",
    "#### Lesser the amount to be paid monthly to repay the loan, higher the chances of loan approval."
   ]
  },
  {
   "cell_type": "code",
   "execution_count": 24,
   "id": "e024ba90",
   "metadata": {},
   "outputs": [],
   "source": [
    "# After looking each variable individually we will now explore them with respect to the target variable."
   ]
  },
  {
   "cell_type": "markdown",
   "id": "b3a243d7",
   "metadata": {},
   "source": [
    "# Categorical Independent Variable vs Target Variable"
   ]
  },
  {
   "cell_type": "code",
   "execution_count": 25,
   "id": "ffce2525",
   "metadata": {},
   "outputs": [],
   "source": [
    "# First we will find relation between target variable and categorical independent variable.\n",
    "# lets look at the stacked bar plot which will give us the proportion of approved and unapproved loans."
   ]
  },
  {
   "cell_type": "code",
   "execution_count": 26,
   "id": "3cc2115e",
   "metadata": {},
   "outputs": [
    {
     "data": {
      "text/plain": [
       "<AxesSubplot:xlabel='Gender'>"
      ]
     },
     "execution_count": 26,
     "metadata": {},
     "output_type": "execute_result"
    },
    {
     "data": {
      "image/png": "[encoded data removed]",
      "text/plain": [
       "<Figure size 288x288 with 1 Axes>"
      ]
     },
     "metadata": {
      "needs_background": "light"
     },
     "output_type": "display_data"
    }
   ],
   "source": [
    "Gender=pd.crosstab(train['Gender'], train['Loan_Status'])\n",
    "Gender.div(Gender.sum(1).astype(float), axis=0).plot(kind=\"bar\", stacked= True, figsize=(4,4))"
   ]
  },
  {
   "cell_type": "markdown",
   "id": "3e8e0be2",
   "metadata": {},
   "source": [
    "###### It can be inferred that the proportion of male and female applicant is more or less same for both approved and unapproved loans"
   ]
  },
  {
   "cell_type": "code",
   "execution_count": 27,
   "id": "0ee8d1d7",
   "metadata": {},
   "outputs": [
    {
     "data": {
      "text/plain": [
       "<AxesSubplot:xlabel='Property_Area'>"
      ]
     },
     "execution_count": 27,
     "metadata": {},
     "output_type": "execute_result"
    },
    {
     "data": {
      "image/png": "[encoded data removed]",
      "text/plain": [
       "<Figure size 288x288 with 1 Axes>"
      ]
     },
     "metadata": {
      "needs_background": "light"
     },
     "output_type": "display_data"
    },
    {
     "data": {
      "image/png": "[encoded data removed]",
      "text/plain": [
       "<Figure size 288x288 with 1 Axes>"
      ]
     },
     "metadata": {
      "needs_background": "light"
     },
     "output_type": "display_data"
    },
    {
     "data": {
      "image/png": "[encoded data removed]",
      "text/plain": [
       "<Figure size 288x288 with 1 Axes>"
      ]
     },
     "metadata": {
      "needs_background": "light"
     },
     "output_type": "display_data"
    },
    {
     "data": {
      "image/png": "[encoded data removed]",
      "text/plain": [
       "<Figure size 288x288 with 1 Axes>"
      ]
     },
     "metadata": {
      "needs_background": "light"
     },
     "output_type": "display_data"
    },
    {
     "data": {
      "image/png": "[encoded data removed]",
      "text/plain": [
       "<Figure size 288x288 with 1 Axes>"
      ]
     },
     "metadata": {
      "needs_background": "light"
     },
     "output_type": "display_data"
    },
    {
     "data": {
      "image/png": "[encoded data removed]",
      "text/plain": [
       "<Figure size 288x288 with 1 Axes>"
      ]
     },
     "metadata": {
      "needs_background": "light"
     },
     "output_type": "display_data"
    }
   ],
   "source": [
    "Married=pd.crosstab(train['Married'], train['Loan_Status'])\n",
    "Married.div(Married.sum(1).astype(float), axis=0).plot(kind=\"bar\", stacked= True, figsize=(4,4))\n",
    "\n",
    "Dependents=pd.crosstab(train['Dependents'], train['Loan_Status'])\n",
    "Dependents.div(Dependents.sum(1).astype(float), axis=0).plot(kind=\"bar\", stacked= True, figsize=(4,4))\n",
    "\n",
    "Education=pd.crosstab(train['Education'], train['Loan_Status'])\n",
    "Education.div(Education.sum(1).astype(float), axis=0).plot(kind=\"bar\", stacked= True, figsize=(4,4))\n",
    "\n",
    "Self_Employed=pd.crosstab(train['Self_Employed'], train['Loan_Status'])\n",
    "Self_Employed.div(Self_Employed.sum(1).astype(float), axis=0).plot(kind=\"bar\", stacked= True, figsize=(4,4))\n",
    "\n",
    "Credit_History=pd.crosstab(train['Credit_History'], train['Loan_Status'])\n",
    "Credit_History.div(Credit_History.sum(1).astype(float), axis=0).plot(kind=\"bar\", stacked= True, figsize=(4,4))\n",
    "\n",
    "Property_Area=pd.crosstab(train['Property_Area'], train['Loan_Status'])\n",
    "Property_Area.div(Property_Area.sum(1).astype(float), axis=0).plot(kind=\"bar\", stacked= True, figsize=(4,4))"
   ]
  },
  {
   "cell_type": "markdown",
   "id": "b165ea99",
   "metadata": {},
   "source": [
    "###### Proportion of married applicants is higher for the approved loans.\n",
    "###### Distribution of applicant with 1 or 3+ dependents is similar across both the categories of Loan_Status.\n",
    "###### There is nothing significant we can infer from Self_Employed vs Loan_Status.\n",
    "###### It seems we have credit history as 1 are more likely to get loans approved.\n",
    "###### Proportion of Loans getting approved in semiurban area is higher as compared to that in Rural or urban areas."
   ]
  },
  {
   "cell_type": "markdown",
   "id": "70f92cd8",
   "metadata": {},
   "source": [
    " "
   ]
  },
  {
   "cell_type": "markdown",
   "id": "dae70cf9",
   "metadata": {},
   "source": [
    "# Numerical Independent Variable vs Target Variable"
   ]
  },
  {
   "cell_type": "markdown",
   "id": "7babf9e5",
   "metadata": {},
   "source": [
    "###### We will try to find mean income of people for which the loan has been approved vs the mean income of the people for which the loan has not been approved."
   ]
  },
  {
   "cell_type": "code",
   "execution_count": 28,
   "id": "32b1ba18",
   "metadata": {},
   "outputs": [
    {
     "data": {
      "text/plain": [
       "<AxesSubplot:xlabel='Loan_Status'>"
      ]
     },
     "execution_count": 28,
     "metadata": {},
     "output_type": "execute_result"
    },
    {
     "data": {
      "image/png": "[encoded data removed]",
      "text/plain": [
       "<Figure size 432x288 with 1 Axes>"
      ]
     },
     "metadata": {
      "needs_background": "light"
     },
     "output_type": "display_data"
    }
   ],
   "source": [
    "train.groupby('Loan_Status')['ApplicantIncome'].mean().plot.bar()"
   ]
  },
  {
   "cell_type": "markdown",
   "id": "92e7e1d9",
   "metadata": {},
   "source": [
    "###### Here the y-axis represents the mean income of the applicant. We don't see any change in the mean income.\n",
    "###### So lets make bins for the applicant income variable based on the values in it and analyze the corresponding loan status for each bin."
   ]
  },
  {
   "cell_type": "code",
   "execution_count": 29,
   "id": "62e81699",
   "metadata": {},
   "outputs": [],
   "source": [
    "bins=[0,2500,4000,6000,81000]\n",
    "group=['Low', 'Average', 'High', 'Very High']\n",
    "train['Income_bin']= pd.cut(train['ApplicantIncome'],bins,labels=group)"
   ]
  },
  {
   "cell_type": "code",
   "execution_count": 30,
   "id": "6f3686c5",
   "metadata": {},
   "outputs": [
    {
     "data": {
      "image/png": "[encoded data removed]",
      "text/plain": [
       "<Figure size 432x288 with 1 Axes>"
      ]
     },
     "metadata": {
      "needs_background": "light"
     },
     "output_type": "display_data"
    }
   ],
   "source": [
    "Income_bin=pd.crosstab(train['Income_bin'], train['Loan_Status'])\n",
    "Income_bin.div(Income_bin.sum(1).astype(float), axis=0).plot(kind=\"bar\", stacked= True)\n",
    "plt.xlabel('ApplicantIncome')\n",
    "P=plt.ylabel('Percentage')"
   ]
  },
  {
   "cell_type": "markdown",
   "id": "591bdf4b",
   "metadata": {},
   "source": [
    "###### It can be inferred that Applicant income does not affect the chance of loan approval which contradicts our hypothesis in which we assumed that if applicant income is high the chances of loan approval will alos be high."
   ]
  },
  {
   "cell_type": "markdown",
   "id": "3272197f",
   "metadata": {},
   "source": [
    "### We will analyze the coapplicant income and loan amount variable in similar manner."
   ]
  },
  {
   "cell_type": "code",
   "execution_count": 31,
   "id": "3f8ed4aa",
   "metadata": {},
   "outputs": [],
   "source": [
    "bins=[0,1000,3000,42000]\n",
    "group=['Low', 'Average', 'High']\n",
    "train['Coapplicant_Income_bin']= pd.cut(train['CoapplicantIncome'],bins,labels=group)"
   ]
  },
  {
   "cell_type": "code",
   "execution_count": 32,
   "id": "c52a37b9",
   "metadata": {},
   "outputs": [
    {
     "data": {
      "image/png": "[encoded data removed]",
      "text/plain": [
       "<Figure size 432x288 with 1 Axes>"
      ]
     },
     "metadata": {
      "needs_background": "light"
     },
     "output_type": "display_data"
    }
   ],
   "source": [
    "Coapplicant_Income_bin=pd.crosstab(train['Coapplicant_Income_bin'], train['Loan_Status'])\n",
    "Coapplicant_Income_bin.div(Coapplicant_Income_bin.sum(1).astype(float), axis=0).plot(kind=\"bar\", stacked= True)\n",
    "plt.xlabel('CoapplicantIncome')\n",
    "P=plt.ylabel('Percentage')"
   ]
  },
  {
   "cell_type": "markdown",
   "id": "edab5a53",
   "metadata": {},
   "source": [
    "##### It shows that if coapplicant's income is the less chances of loan approval are high. But this does not look right. The possible reason behind this may be most of applicants don't have any coapplicant so the coapplicant income for such applicants is 0 and hence the loan approval is not dependent on it. So we can make a new variable in which we will combine the applicant's and coapplicant's income to visualize the combined effect of income on loan approval."
   ]
  },
  {
   "cell_type": "markdown",
   "id": "72d23830",
   "metadata": {},
   "source": [
    "#### Let's combine the Applicant and Coapplicant income and see the combined effect of Total Income on the Loan_Status"
   ]
  },
  {
   "cell_type": "code",
   "execution_count": 33,
   "id": "f3c88cfe",
   "metadata": {},
   "outputs": [],
   "source": [
    "train['Total_Income']=train['ApplicantIncome']+train['CoapplicantIncome']"
   ]
  },
  {
   "cell_type": "code",
   "execution_count": 34,
   "id": "2d4c3829",
   "metadata": {},
   "outputs": [],
   "source": [
    "bins=[0,2500,4000,6000,81000]\n",
    "group=['Low', 'Average', 'High', 'Very High']\n",
    "train['Total_Income_bin']= pd.cut(train['Total_Income'],bins,labels=group)"
   ]
  },
  {
   "cell_type": "code",
   "execution_count": 35,
   "id": "96c8df66",
   "metadata": {},
   "outputs": [
    {
     "data": {
      "image/png": "[encoded data removed]",
      "text/plain": [
       "<Figure size 432x288 with 1 Axes>"
      ]
     },
     "metadata": {
      "needs_background": "light"
     },
     "output_type": "display_data"
    }
   ],
   "source": [
    "Total_Income_bin=pd.crosstab(train['Total_Income_bin'], train['Loan_Status'])\n",
    "Total_Income_bin.div(Total_Income_bin.sum(1).astype(float), axis=0).plot(kind=\"bar\", stacked= True)\n",
    "plt.xlabel('TotalIncome')\n",
    "P=plt.ylabel('Percentage')"
   ]
  },
  {
   "cell_type": "markdown",
   "id": "3284e520",
   "metadata": {},
   "source": [
    "#### We can see that proportion of loans getting approved for applicants having low Total_Income is very less as compared to that of applicants with Average, High and Very High Income."
   ]
  },
  {
   "cell_type": "markdown",
   "id": "79116343",
   "metadata": {},
   "source": [
    "### Lets visualize the Loan amount variable."
   ]
  },
  {
   "cell_type": "code",
   "execution_count": 36,
   "id": "f44062d2",
   "metadata": {},
   "outputs": [],
   "source": [
    "bins=[0,100,200,700]\n",
    "group=['Low', 'Average', 'High']\n",
    "train['Loan_Amount_bin']= pd.cut(train['LoanAmount'],bins,labels=group)"
   ]
  },
  {
   "cell_type": "code",
   "execution_count": 37,
   "id": "f6ccdd81",
   "metadata": {},
   "outputs": [
    {
     "data": {
      "image/png": "[encoded data removed]",
      "text/plain": [
       "<Figure size 432x288 with 1 Axes>"
      ]
     },
     "metadata": {
      "needs_background": "light"
     },
     "output_type": "display_data"
    }
   ],
   "source": [
    "Loan_Amount_bin=pd.crosstab(train['Loan_Amount_bin'], train['Loan_Status'])\n",
    "Loan_Amount_bin.div(Loan_Amount_bin.sum(1).astype(float), axis=0).plot(kind=\"bar\", stacked= True)\n",
    "plt.xlabel('LoanAmount')\n",
    "P=plt.ylabel('Percentage')"
   ]
  },
  {
   "cell_type": "markdown",
   "id": "d88f88ce",
   "metadata": {},
   "source": [
    "###### It can be seen that the proportion of approved loans is higher for Low and Average Loan Amount as compared to that of High Loan Amount which supports our hypothesis in which we considered that the chances of loan approval will be high when the loan amount is less.\n",
    "\n",
    "###### Let's drop the bins we created for the exploration part. We will change the 3+ in dependent variables to 3 to make it a numerical variable . We will also convert the target variable's categories into 0 and 1 so that we can find it's correlation with numerical variables. One more reason to do so is few models like Logistic regression takes only numerical values as input. We will replace N with 0 and Y with 1."
   ]
  },
  {
   "cell_type": "markdown",
   "id": "23605098",
   "metadata": {},
   "source": [
    " "
   ]
  },
  {
   "cell_type": "code",
   "execution_count": 38,
   "id": "bf6c4c9e",
   "metadata": {},
   "outputs": [],
   "source": [
    "train=train.drop(['Income_bin','Coapplicant_Income_bin','Loan_Amount_bin','Total_Income_bin','Total_Income'], axis=1)"
   ]
  },
  {
   "cell_type": "code",
   "execution_count": 39,
   "id": "768bf060",
   "metadata": {},
   "outputs": [],
   "source": [
    "train['Dependents'].replace('3+', 3,inplace=True)\n",
    "test['Dependents'].replace('3+', 3,inplace=True)\n",
    "train['Loan_Status'].replace('N', 0,inplace=True)\n",
    "train['Loan_Status'].replace('Y', 1,inplace=True)"
   ]
  },
  {
   "cell_type": "markdown",
   "id": "488a630e",
   "metadata": {},
   "source": [
    "###### Now let's look at the correlation between all the numerical variables. We will use the heat map to visualize the correlation . Heatmaps visualize data through variations in coloring. The variables with darker colour means their correlation is more."
   ]
  },
  {
   "cell_type": "code",
   "execution_count": 40,
   "id": "2727bb22",
   "metadata": {},
   "outputs": [
    {
     "data": {
      "image/png": "[encoded data removed]",
      "text/plain": [
       "<Figure size 648x432 with 2 Axes>"
      ]
     },
     "metadata": {
      "needs_background": "light"
     },
     "output_type": "display_data"
    }
   ],
   "source": [
    "matrix=train.corr()\n",
    "ax=plt.subplots(figsize=(9,6))\n",
    "sns.heatmap(matrix, vmax=.8, square=True, cmap=\"BuPu\");"
   ]
  },
  {
   "cell_type": "markdown",
   "id": "c0fbb9c0",
   "metadata": {},
   "source": [
    "###### We see that the most correlated variables are ( Appliocantincome-LoanAmount) and (Credit_History - Loan_Status). Loan Amount is also correlated with CoapplicantIncome."
   ]
  },
  {
   "cell_type": "markdown",
   "id": "5c72e4af",
   "metadata": {},
   "source": [
    " "
   ]
  },
  {
   "cell_type": "markdown",
   "id": "1e3e0ef4",
   "metadata": {},
   "source": [
    "### After exploring all the variable in our data, we can now impute the missing values and treate the outliers because missing data and outliers can have adverse effect on model performance."
   ]
  },
  {
   "cell_type": "markdown",
   "id": "7dfb72ac",
   "metadata": {},
   "source": [
    "# Missing value imputation"
   ]
  },
  {
   "cell_type": "code",
   "execution_count": 41,
   "id": "ba2483a2",
   "metadata": {},
   "outputs": [],
   "source": [
    "# Let's list out feature-wise count of missing values."
   ]
  },
  {
   "cell_type": "code",
   "execution_count": 42,
   "id": "be9a9e77",
   "metadata": {},
   "outputs": [
    {
     "data": {
      "text/plain": [
       "Loan_ID               0\n",
       "Gender               13\n",
       "Married               3\n",
       "Dependents           15\n",
       "Education             0\n",
       "Self_Employed        32\n",
       "ApplicantIncome       0\n",
       "CoapplicantIncome     0\n",
       "LoanAmount           22\n",
       "Loan_Amount_Term     14\n",
       "Credit_History       50\n",
       "Property_Area         0\n",
       "Loan_Status           0\n",
       "dtype: int64"
      ]
     },
     "execution_count": 42,
     "metadata": {},
     "output_type": "execute_result"
    }
   ],
   "source": [
    "train.isnull().sum()"
   ]
  },
  {
   "cell_type": "markdown",
   "id": "3e2d4611",
   "metadata": {},
   "source": [
    "###### There are missing values in Gender, Married, Dependents, Self_Employed, LoanAmount, Loan_Amount_Term, Credit_History"
   ]
  },
  {
   "cell_type": "code",
   "execution_count": 43,
   "id": "58b2a7a7",
   "metadata": {},
   "outputs": [],
   "source": [
    "# We will treate the missing values in all the features one by one."
   ]
  },
  {
   "cell_type": "markdown",
   "id": "f38fbd08",
   "metadata": {},
   "source": [
    "###### We can consider these methods to fill the missing values :"
   ]
  },
  {
   "cell_type": "code",
   "execution_count": 44,
   "id": "fa32d1fa",
   "metadata": {},
   "outputs": [],
   "source": [
    "# For Numerical Variables: imputation using mean or median\n",
    "# For Categorical variables:imputation using mode "
   ]
  },
  {
   "cell_type": "code",
   "execution_count": 45,
   "id": "db068408",
   "metadata": {},
   "outputs": [],
   "source": [
    "train['Gender'].fillna(train['Gender'].mode()[0],inplace=True)\n",
    "train['Married'].fillna(train['Married'].mode()[0],inplace=True)\n",
    "train['Dependents'].fillna(train['Dependents'].mode()[0],inplace=True)\n",
    "train['Self_Employed'].fillna(train['Self_Employed'].mode()[0],inplace=True)\n",
    "train['Credit_History'].fillna(train['Credit_History'].mode()[0],inplace=True)"
   ]
  },
  {
   "cell_type": "markdown",
   "id": "59ec09ea",
   "metadata": {},
   "source": [
    " "
   ]
  },
  {
   "cell_type": "markdown",
   "id": "29b99e3d",
   "metadata": {},
   "source": [
    "###### Now let's try to find a way to fill the missing values in Loan_Amount_Term. We will look at the value count of the Loan amount term variable."
   ]
  },
  {
   "cell_type": "code",
   "execution_count": 46,
   "id": "28c3c0b1",
   "metadata": {},
   "outputs": [
    {
     "data": {
      "text/plain": [
       "360.0    512\n",
       "180.0     44\n",
       "480.0     15\n",
       "300.0     13\n",
       "240.0      4\n",
       "84.0       4\n",
       "120.0      3\n",
       "60.0       2\n",
       "36.0       2\n",
       "12.0       1\n",
       "Name: Loan_Amount_Term, dtype: int64"
      ]
     },
     "execution_count": 46,
     "metadata": {},
     "output_type": "execute_result"
    }
   ],
   "source": [
    "train['Loan_Amount_Term'].value_counts()"
   ]
  },
  {
   "cell_type": "code",
   "execution_count": 47,
   "id": "641476ea",
   "metadata": {},
   "outputs": [],
   "source": [
    "# It can be seen that in loan amount term variable, the value of 360 is repeating the most.\n",
    "# So we will replace the missing values in the variable using the mode ."
   ]
  },
  {
   "cell_type": "code",
   "execution_count": 48,
   "id": "7ede03f7",
   "metadata": {},
   "outputs": [],
   "source": [
    "train['Loan_Amount_Term'].fillna(train['Loan_Amount_Term'].mode()[0], inplace=True)"
   ]
  },
  {
   "cell_type": "markdown",
   "id": "b528da61",
   "metadata": {},
   "source": [
    "###### Now we will see the LoanAmount Variable. As it is a numerical variable, we can use mean or median to impute missing values. We will use median to fill the null values as earlier we saw that the LoanAmount have outliers so the mean will not be proper approach as it is highly affected by the presence of outliers. "
   ]
  },
  {
   "cell_type": "code",
   "execution_count": 49,
   "id": "1a58aef4",
   "metadata": {},
   "outputs": [],
   "source": [
    "train['LoanAmount'].fillna(train['LoanAmount'].median(), inplace=True)"
   ]
  },
  {
   "cell_type": "code",
   "execution_count": 50,
   "id": "041f76d5",
   "metadata": {},
   "outputs": [
    {
     "data": {
      "text/plain": [
       "Loan_ID              0\n",
       "Gender               0\n",
       "Married              0\n",
       "Dependents           0\n",
       "Education            0\n",
       "Self_Employed        0\n",
       "ApplicantIncome      0\n",
       "CoapplicantIncome    0\n",
       "LoanAmount           0\n",
       "Loan_Amount_Term     0\n",
       "Credit_History       0\n",
       "Property_Area        0\n",
       "Loan_Status          0\n",
       "dtype: int64"
      ]
     },
     "execution_count": 50,
     "metadata": {},
     "output_type": "execute_result"
    }
   ],
   "source": [
    "train.isnull().sum()"
   ]
  },
  {
   "cell_type": "markdown",
   "id": "3c02ed6a",
   "metadata": {},
   "source": [
    "###### As we see that all the missing values have been filled in the train dataset . Let's fill all the missing valuesin the test dataset too with the same approach."
   ]
  },
  {
   "cell_type": "code",
   "execution_count": 51,
   "id": "fb727795",
   "metadata": {},
   "outputs": [],
   "source": [
    "test['Gender'].fillna(train['Gender'].mode()[0],inplace=True)\n",
    "test['Married'].fillna(train['Married'].mode()[0],inplace=True)\n",
    "test['Dependents'].fillna(train['Dependents'].mode()[0],inplace=True)\n",
    "test['Self_Employed'].fillna(train['Self_Employed'].mode()[0],inplace=True)\n",
    "test['Credit_History'].fillna(train['Credit_History'].mode()[0],inplace=True)\n",
    "test['Loan_Amount_Term'].fillna(train['Loan_Amount_Term'].mode()[0], inplace=True)\n",
    "test['LoanAmount'].fillna(train['LoanAmount'].median(), inplace=True)"
   ]
  },
  {
   "cell_type": "code",
   "execution_count": 52,
   "id": "83bf21a7",
   "metadata": {},
   "outputs": [
    {
     "data": {
      "text/plain": [
       "Loan_ID              0\n",
       "Gender               0\n",
       "Married              0\n",
       "Dependents           0\n",
       "Education            0\n",
       "Self_Employed        0\n",
       "ApplicantIncome      0\n",
       "CoapplicantIncome    0\n",
       "LoanAmount           0\n",
       "Loan_Amount_Term     0\n",
       "Credit_History       0\n",
       "Property_Area        0\n",
       "dtype: int64"
      ]
     },
     "execution_count": 52,
     "metadata": {},
     "output_type": "execute_result"
    }
   ],
   "source": [
    "test.isnull().sum()"
   ]
  },
  {
   "cell_type": "markdown",
   "id": "85328677",
   "metadata": {},
   "source": [
    "# Outlier Treatment"
   ]
  },
  {
   "cell_type": "markdown",
   "id": "3739f08d",
   "metadata": {},
   "source": [
    "###### As we saw earlier in uni univariate analysis, LoanAmount contains outliers so we have to treate them as the presence of outliers affects the distribution of data."
   ]
  },
  {
   "cell_type": "markdown",
   "id": "ddabc756",
   "metadata": {},
   "source": [
    "###### Let's visualize the effect of log transformation. we will do similar changes to test file simultaneously."
   ]
  },
  {
   "cell_type": "code",
   "execution_count": 53,
   "id": "e195444e",
   "metadata": {},
   "outputs": [
    {
     "data": {
      "image/png": "[encoded data removed]",
      "text/plain": [
       "<Figure size 432x288 with 1 Axes>"
      ]
     },
     "metadata": {
      "needs_background": "light"
     },
     "output_type": "display_data"
    }
   ],
   "source": [
    "train['LoanAmount_log']=np.log(train['LoanAmount'])\n",
    "train['LoanAmount_log'].hist(bins=20)\n",
    "test['LoanAmount_log']=np.log(test['LoanAmount'])"
   ]
  },
  {
   "cell_type": "markdown",
   "id": "200644db",
   "metadata": {},
   "source": [
    "###### Now the distribution looks mjuch closer to normal  and effect of extreme values has been significantly subsided.\n",
    "\n",
    "###### Lets'build a logistic regression model and make prediction for test data."
   ]
  },
  {
   "cell_type": "markdown",
   "id": "8961b79c",
   "metadata": {},
   "source": [
    "# Model building- Logistic Regression"
   ]
  },
  {
   "cell_type": "code",
   "execution_count": 54,
   "id": "d91508b8",
   "metadata": {},
   "outputs": [],
   "source": [
    "# Lets drop the Loan_ID cariable as it do not have any effect on the Loan status.\n",
    "# We will do the same changes to our test dataset which we did for further training dataset."
   ]
  },
  {
   "cell_type": "code",
   "execution_count": 55,
   "id": "3b92558b",
   "metadata": {},
   "outputs": [],
   "source": [
    "train=train.drop('Loan_ID', axis=1)\n",
    "test=test.drop('Loan_ID', axis=1)"
   ]
  },
  {
   "cell_type": "markdown",
   "id": "5e2c1e43",
   "metadata": {},
   "source": [
    "###### Sklearn requirs the target variable in a seperate dataset. So, we will drop our target variable from the train dataset and save it in another dataset"
   ]
  },
  {
   "cell_type": "code",
   "execution_count": 56,
   "id": "ca8e5435",
   "metadata": {},
   "outputs": [],
   "source": [
    "X = train.drop('Loan_Status',1)\n",
    "y = train.Loan_Status"
   ]
  },
  {
   "cell_type": "markdown",
   "id": "c0f7f1fa",
   "metadata": {},
   "source": [
    "###### Now we will make dummy variables for our categorical variables.\n",
    "Dummy variables turns categorical variables into a series of 0 and 1, making them lot easier too quantify and compare."
   ]
  },
  {
   "cell_type": "code",
   "execution_count": 57,
   "id": "871cce8f",
   "metadata": {},
   "outputs": [],
   "source": [
    "X=pd.get_dummies(X)\n",
    "train=pd.get_dummies(train)\n",
    "test=pd.get_dummies(test)"
   ]
  },
  {
   "cell_type": "markdown",
   "id": "6346e970",
   "metadata": {},
   "source": [
    "###### We will use the train_test_split function from sklearn to divide our train dataset. So first lets import train_test_split"
   ]
  },
  {
   "cell_type": "code",
   "execution_count": 58,
   "id": "b4a9cf66",
   "metadata": {},
   "outputs": [],
   "source": [
    "from sklearn.model_selection import train_test_split"
   ]
  },
  {
   "cell_type": "code",
   "execution_count": 59,
   "id": "a7aa0eb4",
   "metadata": {},
   "outputs": [],
   "source": [
    "x_train, x_cv, y_train, y_cv = train_test_split(X,y, test_size=0.3)"
   ]
  },
  {
   "cell_type": "markdown",
   "id": "6fb38fa9",
   "metadata": {},
   "source": [
    "###### The dataset has been divided into training and validation part. Let us import LogisticRegression and accuracy_score from sklearn and fit the logistic regression model."
   ]
  },
  {
   "cell_type": "code",
   "execution_count": 60,
   "id": "41879442",
   "metadata": {},
   "outputs": [],
   "source": [
    "from sklearn.linear_model import LogisticRegression\n",
    "from sklearn.metrics import accuracy_score"
   ]
  },
  {
   "cell_type": "code",
   "execution_count": 61,
   "id": "e04bd681",
   "metadata": {},
   "outputs": [
    {
     "data": {
      "text/plain": [
       "LogisticRegression()"
      ]
     },
     "execution_count": 61,
     "metadata": {},
     "output_type": "execute_result"
    }
   ],
   "source": [
    "model = LogisticRegression()\n",
    "model.fit(x_train, y_train)"
   ]
  },
  {
   "cell_type": "markdown",
   "id": "89155b70",
   "metadata": {},
   "source": [
    "###### Let's predict the Loan_Status for validation set and calculate its accuracy."
   ]
  },
  {
   "cell_type": "code",
   "execution_count": 62,
   "id": "4b258bdf",
   "metadata": {},
   "outputs": [],
   "source": [
    "pred_cv= model.predict(x_cv)"
   ]
  },
  {
   "cell_type": "markdown",
   "id": "6daf89e5",
   "metadata": {},
   "source": [
    "###### Let's calculate how accurate our pprediction are by calculating the accuracy."
   ]
  },
  {
   "cell_type": "code",
   "execution_count": 63,
   "id": "d3d5e159",
   "metadata": {},
   "outputs": [
    {
     "data": {
      "text/plain": [
       "0.7945945945945946"
      ]
     },
     "execution_count": 63,
     "metadata": {},
     "output_type": "execute_result"
    }
   ],
   "source": [
    "accuracy_score(y_cv,pred_cv)"
   ]
  },
  {
   "cell_type": "markdown",
   "id": "3b1859ee",
   "metadata": {},
   "source": [
    "###### So our predictions are almost 84% accurate , i.e. we have identified 84% of the loan status correctly."
   ]
  },
  {
   "cell_type": "markdown",
   "id": "028fb521",
   "metadata": {},
   "source": [
    " "
   ]
  },
  {
   "cell_type": "markdown",
   "id": "4c0faef2",
   "metadata": {},
   "source": [
    "   "
   ]
  },
  {
   "cell_type": "markdown",
   "id": "98fe9ed0",
   "metadata": {},
   "source": [
    "###### Let's make predictions for the test dataset"
   ]
  },
  {
   "cell_type": "code",
   "execution_count": 64,
   "id": "430876ea",
   "metadata": {},
   "outputs": [],
   "source": [
    "pred_test=model.predict(test)"
   ]
  },
  {
   "cell_type": "code",
   "execution_count": 65,
   "id": "139179fe",
   "metadata": {},
   "outputs": [],
   "source": [
    "submission=pd.read_csv(r\"C:\\Users\\Kartik\\OneDrive\\Desktop\\Projects Loan status eda\\sample_submission.csv\")"
   ]
  },
  {
   "cell_type": "code",
   "execution_count": 66,
   "id": "51a71148",
   "metadata": {},
   "outputs": [],
   "source": [
    "submission['Loan_Status']=pred_test\n",
    "submission['Loan_ID']=test_original['Loan_ID']"
   ]
  },
  {
   "cell_type": "markdown",
   "id": "9d9e5553",
   "metadata": {},
   "source": [
    "###### We need predictions in Y and N. So let's convert 1 and 0 to Y and N."
   ]
  },
  {
   "cell_type": "code",
   "execution_count": 67,
   "id": "aa892b89",
   "metadata": {},
   "outputs": [],
   "source": [
    "submission['Loan_Status'].replace(0, 'N', inplace=True)\n",
    "submission['Loan_Status'].replace(1, 'Y', inplace=True)"
   ]
  },
  {
   "cell_type": "code",
   "execution_count": 68,
   "id": "3a7a3dd5",
   "metadata": {},
   "outputs": [
    {
     "data": {
      "text/html": [
       "<div>\n",
       "<style scoped>\n",
       "    .dataframe tbody tr th:only-of-type {\n",
       "        vertical-align: middle;\n",
       "    }\n",
       "\n",
       "    .dataframe tbody tr th {\n",
       "        vertical-align: top;\n",
       "    }\n",
       "\n",
       "    .dataframe thead th {\n",
       "        text-align: right;\n",
       "    }\n",
       "</style>\n",
       "<table border=\"1\" class=\"dataframe\">\n",
       "  <thead>\n",
       "    <tr style=\"text-align: right;\">\n",
       "      <th></th>\n",
       "      <th>Loan_ID</th>\n",
       "      <th>Loan_Status</th>\n",
       "    </tr>\n",
       "  </thead>\n",
       "  <tbody>\n",
       "    <tr>\n",
       "      <th>0</th>\n",
       "      <td>LP001015</td>\n",
       "      <td>Y</td>\n",
       "    </tr>\n",
       "    <tr>\n",
       "      <th>1</th>\n",
       "      <td>LP001022</td>\n",
       "      <td>Y</td>\n",
       "    </tr>\n",
       "    <tr>\n",
       "      <th>2</th>\n",
       "      <td>LP001031</td>\n",
       "      <td>Y</td>\n",
       "    </tr>\n",
       "    <tr>\n",
       "      <th>3</th>\n",
       "      <td>LP001035</td>\n",
       "      <td>Y</td>\n",
       "    </tr>\n",
       "    <tr>\n",
       "      <th>4</th>\n",
       "      <td>LP001051</td>\n",
       "      <td>Y</td>\n",
       "    </tr>\n",
       "  </tbody>\n",
       "</table>\n",
       "</div>"
      ],
      "text/plain": [
       "    Loan_ID Loan_Status\n",
       "0  LP001015           Y\n",
       "1  LP001022           Y\n",
       "2  LP001031           Y\n",
       "3  LP001035           Y\n",
       "4  LP001051           Y"
      ]
     },
     "execution_count": 68,
     "metadata": {},
     "output_type": "execute_result"
    }
   ],
   "source": [
    "submission.head()"
   ]
  },
  {
   "cell_type": "code",
   "execution_count": 69,
   "id": "d79cc795",
   "metadata": {},
   "outputs": [],
   "source": [
    "pd.DataFrame(submission, columns=['Loan_ID','Loan_Status']).to_csv('logistic.csv')"
   ]
  },
  {
   "cell_type": "markdown",
   "id": "2735f940",
   "metadata": {},
   "source": [
    "#### We got an accuracy of 0.7847 on Vidhya Analytics."
   ]
  },
  {
   "cell_type": "markdown",
   "id": "2dba51c2",
   "metadata": {},
   "source": [
    "# Decision Tree"
   ]
  },
  {
   "cell_type": "code",
   "execution_count": 70,
   "id": "4288e9a0",
   "metadata": {},
   "outputs": [],
   "source": [
    "from sklearn import tree"
   ]
  },
  {
   "cell_type": "code",
   "execution_count": 71,
   "id": "1ca8d9c4",
   "metadata": {},
   "outputs": [],
   "source": [
    "from sklearn.tree import DecisionTreeClassifier"
   ]
  },
  {
   "cell_type": "code",
   "execution_count": 72,
   "id": "2ae2c3ff",
   "metadata": {},
   "outputs": [
    {
     "data": {
      "text/plain": [
       "DecisionTreeClassifier()"
      ]
     },
     "execution_count": 72,
     "metadata": {},
     "output_type": "execute_result"
    }
   ],
   "source": [
    "model = DecisionTreeClassifier()\n",
    "model.fit(x_train, y_train)"
   ]
  },
  {
   "cell_type": "code",
   "execution_count": 73,
   "id": "4b96c5ed",
   "metadata": {},
   "outputs": [],
   "source": [
    "pred_cv= model.predict(x_cv)"
   ]
  },
  {
   "cell_type": "code",
   "execution_count": 74,
   "id": "cd10c0be",
   "metadata": {},
   "outputs": [],
   "source": [
    "pred_test=model.predict(test)"
   ]
  },
  {
   "cell_type": "code",
   "execution_count": 75,
   "id": "88cc3c27",
   "metadata": {},
   "outputs": [],
   "source": [
    "submission['Loan_Status']=pred_test\n",
    "submission['Loan_ID']=test_original['Loan_ID']"
   ]
  },
  {
   "cell_type": "code",
   "execution_count": 76,
   "id": "bd95bc27",
   "metadata": {},
   "outputs": [],
   "source": [
    "submission['Loan_Status'].replace(0, 'N', inplace=True)\n",
    "submission['Loan_Status'].replace(1, 'Y', inplace=True)"
   ]
  },
  {
   "cell_type": "code",
   "execution_count": 77,
   "id": "eec792b2",
   "metadata": {},
   "outputs": [
    {
     "data": {
      "text/html": [
       "<div>\n",
       "<style scoped>\n",
       "    .dataframe tbody tr th:only-of-type {\n",
       "        vertical-align: middle;\n",
       "    }\n",
       "\n",
       "    .dataframe tbody tr th {\n",
       "        vertical-align: top;\n",
       "    }\n",
       "\n",
       "    .dataframe thead th {\n",
       "        text-align: right;\n",
       "    }\n",
       "</style>\n",
       "<table border=\"1\" class=\"dataframe\">\n",
       "  <thead>\n",
       "    <tr style=\"text-align: right;\">\n",
       "      <th></th>\n",
       "      <th>Loan_ID</th>\n",
       "      <th>Loan_Status</th>\n",
       "    </tr>\n",
       "  </thead>\n",
       "  <tbody>\n",
       "    <tr>\n",
       "      <th>0</th>\n",
       "      <td>LP001015</td>\n",
       "      <td>Y</td>\n",
       "    </tr>\n",
       "    <tr>\n",
       "      <th>1</th>\n",
       "      <td>LP001022</td>\n",
       "      <td>Y</td>\n",
       "    </tr>\n",
       "    <tr>\n",
       "      <th>2</th>\n",
       "      <td>LP001031</td>\n",
       "      <td>Y</td>\n",
       "    </tr>\n",
       "    <tr>\n",
       "      <th>3</th>\n",
       "      <td>LP001035</td>\n",
       "      <td>Y</td>\n",
       "    </tr>\n",
       "    <tr>\n",
       "      <th>4</th>\n",
       "      <td>LP001051</td>\n",
       "      <td>N</td>\n",
       "    </tr>\n",
       "  </tbody>\n",
       "</table>\n",
       "</div>"
      ],
      "text/plain": [
       "    Loan_ID Loan_Status\n",
       "0  LP001015           Y\n",
       "1  LP001022           Y\n",
       "2  LP001031           Y\n",
       "3  LP001035           Y\n",
       "4  LP001051           N"
      ]
     },
     "execution_count": 77,
     "metadata": {},
     "output_type": "execute_result"
    }
   ],
   "source": [
    "submission.head()"
   ]
  },
  {
   "cell_type": "code",
   "execution_count": 78,
   "id": "5ad33d66",
   "metadata": {},
   "outputs": [],
   "source": [
    "pd.DataFrame(submission, columns=['Loan_ID','Loan_Status']).to_csv('Decission_tree.csv')"
   ]
  },
  {
   "cell_type": "code",
   "execution_count": null,
   "id": "47411ff6",
   "metadata": {},
   "outputs": [],
   "source": []
  }
 ],
 "metadata": {
  "kernelspec": {
   "display_name": "Python 3 (ipykernel)",
   "language": "python",
   "name": "python3"
  },
  "language_info": {
   "codemirror_mode": {
    "name": "ipython",
    "version": 3
   },
   "file_extension": ".py",
   "mimetype": "text/x-python",
   "name": "python",
   "nbconvert_exporter": "python",
   "pygments_lexer": "ipython3",
   "version": "3.9.7"
  }
 },
 "nbformat": 4,
 "nbformat_minor": 5
}
